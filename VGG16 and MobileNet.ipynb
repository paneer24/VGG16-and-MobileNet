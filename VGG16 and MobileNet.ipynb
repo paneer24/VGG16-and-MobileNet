{
 "cells": [
  {
   "cell_type": "code",
   "execution_count": 1,
   "id": "371d5ac0",
   "metadata": {},
   "outputs": [],
   "source": [
    "# pip install flask\n",
    "# pip install streamlit\n",
    "# pip install streamlit_drawable_canvas"
   ]
  },
  {
   "cell_type": "markdown",
   "id": "f7983055",
   "metadata": {},
   "source": [
    "### ImageNet\n",
    "1) Imagenet is an image database that organizes a competition for image classfication. <br>\n",
    "2) Imagenet provides the CNN model weight and based on those weights custom pretrained models are developed<br>\n",
    "3) Using custom pre-trained models in CNN is referred to as using Transfer Learning Techniques<br>\n",
    "4) VGG16, VGG19, ResNet,ResNet50, MobileNet, Inception etc. are exmaples of Transfer learning Techniques\n",
    "These are custom CNN architectures used to implement image clasification"
   ]
  },
  {
   "cell_type": "markdown",
   "id": "4f936e28",
   "metadata": {},
   "source": [
    "### VGG16\n",
    "1) It uses Convolution with (3,3) filters with a stride of 1 and uses the 'same' padding with \n",
    "maxpool layer throughout the architecture<br>\n",
    "2) In the end it has three fully connected layers followed by a softmax activation for output<br>\n",
    "\n",
    "#### VGG16 Architecture\n",
    "<img src=\"vgg16_arch.jpeg\">"
   ]
  },
  {
   "cell_type": "markdown",
   "id": "84640e30",
   "metadata": {},
   "source": [
    "#### Dataset -> https://www.kaggle.com/datasets/puneet6060/intel-image-classification"
   ]
  },
  {
   "cell_type": "markdown",
   "id": "520666c7",
   "metadata": {},
   "source": [
    "#### Data Augmentation Visualization\n",
    "\n",
    "https://machinelearningmastery.com/how-to-configure-image-data-augmentation-when-training-deep-learning-neural-networks/"
   ]
  },
  {
   "cell_type": "code",
   "execution_count": null,
   "id": "945d9dc3",
   "metadata": {},
   "outputs": [],
   "source": []
  },
  {
   "cell_type": "markdown",
   "id": "47932f5c",
   "metadata": {},
   "source": [
    "### Intel Image Classification using VGG16 and Data Augmentation"
   ]
  },
  {
   "cell_type": "code",
   "execution_count": 3,
   "id": "d59fabed",
   "metadata": {},
   "outputs": [],
   "source": [
    "import numpy as np\n",
    "import pandas as pd\n",
    "import matplotlib.pyplot as plt"
   ]
  },
  {
   "cell_type": "code",
   "execution_count": 4,
   "id": "cae189bf",
   "metadata": {},
   "outputs": [],
   "source": [
    "from tensorflow.keras.preprocessing import image\n",
    "from tensorflow.keras.preprocessing.image import ImageDataGenerator\n",
    "from tensorflow.keras.applications.vgg16 import preprocess_input\n",
    "# from tensorflow.keras.applications.mobilenet import preprocess_input"
   ]
  },
  {
   "cell_type": "code",
   "execution_count": 6,
   "id": "bbe5a94b",
   "metadata": {},
   "outputs": [],
   "source": [
    "img_shape = (300,300)\n",
    "BATCH_SIZE = 16"
   ]
  },
  {
   "cell_type": "code",
   "execution_count": 7,
   "id": "5f3ce4f3",
   "metadata": {},
   "outputs": [],
   "source": [
    "# E:\\Img_datasets\\Intel_Image\\seg_train\n",
    "# E:\\Img_datasets\\Intel_Image\n",
    "train_dir = \"E:\\\\Img_datasets\\\\Intel_Image\\\\seg_train\"\n",
    "test_dir = \"E:\\\\Img_datasets\\\\Intel_Image\\\\seg_test\""
   ]
  },
  {
   "cell_type": "markdown",
   "id": "415b2a1c",
   "metadata": {},
   "source": [
    "### Data Augmentation"
   ]
  },
  {
   "cell_type": "code",
   "execution_count": 9,
   "id": "c44a236e",
   "metadata": {},
   "outputs": [
    {
     "name": "stdout",
     "output_type": "stream",
     "text": [
      "14034\n",
      "140.34\n"
     ]
    }
   ],
   "source": [
    "total = 2191 + 2271 + 2404 + 2512 + 2274 + 2382\n",
    "print(total)\n",
    "print(total*0.01)"
   ]
  },
  {
   "cell_type": "code",
   "execution_count": 10,
   "id": "dc2b0846",
   "metadata": {},
   "outputs": [
    {
     "name": "stdout",
     "output_type": "stream",
     "text": [
      "Found 143 images belonging to 6 classes.\n"
     ]
    }
   ],
   "source": [
    "train_gen = ImageDataGenerator(\n",
    "            rotation_range=20,horizontal_flip=True,vertical_flip=True,\n",
    "            width_shift_range=0.2,height_shift_range=0.2,\n",
    "            preprocessing_function=preprocess_input,\n",
    "            zoom_range=0.2,shear_range=0.3,validation_split=0.99)\n",
    "\n",
    "\n",
    "train = train_gen.flow_from_directory(train_dir,target_size=img_shape,shuffle=True,\n",
    "        class_mode='categorical',batch_size=BATCH_SIZE,subset='training')"
   ]
  },
  {
   "cell_type": "code",
   "execution_count": 12,
   "id": "cbc31ed8",
   "metadata": {},
   "outputs": [
    {
     "name": "stdout",
     "output_type": "stream",
     "text": [
      "3000\n"
     ]
    }
   ],
   "source": [
    "total_test = 437 + 474 + 553 + 525 + 510 + 501\n",
    "print(total_test)"
   ]
  },
  {
   "cell_type": "code",
   "execution_count": 11,
   "id": "86784d99",
   "metadata": {},
   "outputs": [
    {
     "name": "stdout",
     "output_type": "stream",
     "text": [
      "Found 28 images belonging to 6 classes.\n"
     ]
    }
   ],
   "source": [
    "test_gen = ImageDataGenerator(preprocessing_function=preprocess_input,validation_split=0.01)\n",
    "\n",
    "test = test_gen.flow_from_directory(test_dir,target_size=img_shape,shuffle=False,\n",
    "        class_mode='categorical',batch_size=BATCH_SIZE,subset='validation')"
   ]
  },
  {
   "cell_type": "code",
   "execution_count": 12,
   "id": "961df03c",
   "metadata": {},
   "outputs": [
    {
     "data": {
      "text/plain": [
       "143"
      ]
     },
     "execution_count": 12,
     "metadata": {},
     "output_type": "execute_result"
    }
   ],
   "source": [
    "(16*8 + 15)"
   ]
  },
  {
   "cell_type": "code",
   "execution_count": 13,
   "id": "5be5a066",
   "metadata": {},
   "outputs": [
    {
     "name": "stdout",
     "output_type": "stream",
     "text": [
      "(16, 300, 300, 3)\n",
      "(16, 300, 300, 3)\n",
      "(16, 300, 300, 3)\n",
      "(16, 300, 300, 3)\n",
      "(16, 300, 300, 3)\n",
      "(16, 300, 300, 3)\n",
      "(16, 300, 300, 3)\n",
      "(16, 300, 300, 3)\n",
      "(15, 300, 300, 3)\n"
     ]
    }
   ],
   "source": [
    "type(train)\n",
    "for i in range(9):\n",
    "    print(train[i][0].shape)"
   ]
  },
  {
   "cell_type": "code",
   "execution_count": 14,
   "id": "2a224743",
   "metadata": {},
   "outputs": [
    {
     "name": "stdout",
     "output_type": "stream",
     "text": [
      "(16, 6)\n",
      "(16, 6)\n",
      "(16, 6)\n",
      "(16, 6)\n",
      "(16, 6)\n",
      "(16, 6)\n",
      "(16, 6)\n",
      "(16, 6)\n",
      "(15, 6)\n"
     ]
    }
   ],
   "source": [
    "for i in range(9):\n",
    "    print(train[i][1].shape)"
   ]
  },
  {
   "cell_type": "code",
   "execution_count": 16,
   "id": "44cd3d4b",
   "metadata": {},
   "outputs": [
    {
     "name": "stdout",
     "output_type": "stream",
     "text": [
      "[[1. 0. 0. 0. 0. 0.]\n",
      " [0. 1. 0. 0. 0. 0.]\n",
      " [0. 0. 0. 0. 0. 1.]\n",
      " [0. 0. 0. 0. 0. 1.]\n",
      " [0. 0. 0. 0. 0. 1.]\n",
      " [0. 1. 0. 0. 0. 0.]\n",
      " [0. 0. 1. 0. 0. 0.]\n",
      " [0. 1. 0. 0. 0. 0.]\n",
      " [0. 0. 0. 0. 1. 0.]\n",
      " [0. 0. 0. 0. 0. 1.]\n",
      " [0. 0. 0. 0. 1. 0.]\n",
      " [0. 0. 0. 1. 0. 0.]\n",
      " [0. 0. 0. 0. 1. 0.]\n",
      " [0. 1. 0. 0. 0. 0.]\n",
      " [0. 0. 0. 0. 1. 0.]\n",
      " [0. 0. 1. 0. 0. 0.]]\n"
     ]
    }
   ],
   "source": [
    "print(train[0][1])"
   ]
  },
  {
   "cell_type": "code",
   "execution_count": 17,
   "id": "681cd862",
   "metadata": {},
   "outputs": [
    {
     "name": "stdout",
     "output_type": "stream",
     "text": [
      "143\n",
      "28\n"
     ]
    }
   ],
   "source": [
    "train_samples = train.samples\n",
    "test_samples = test.samples\n",
    "print(train_samples)\n",
    "print(test_samples)"
   ]
  },
  {
   "cell_type": "code",
   "execution_count": 19,
   "id": "44645269",
   "metadata": {},
   "outputs": [
    {
     "name": "stdout",
     "output_type": "stream",
     "text": [
      "{'buildings': 0, 'forest': 1, 'glacier': 2, 'mountain': 3, 'sea': 4, 'street': 5}\n",
      "Classes ['buildings', 'forest', 'glacier', 'mountain', 'sea', 'street']\n",
      "6\n"
     ]
    }
   ],
   "source": [
    "classes = list(train.class_indices.keys())\n",
    "print(train.class_indices)  # dict\n",
    "print('Classes',classes)\n",
    "num_classes = len(classes)\n",
    "print(num_classes)"
   ]
  },
  {
   "cell_type": "code",
   "execution_count": 20,
   "id": "c44306a5",
   "metadata": {},
   "outputs": [
    {
     "name": "stdout",
     "output_type": "stream",
     "text": [
      "dict_values([0, 1, 2, 3, 4, 5])\n"
     ]
    }
   ],
   "source": [
    "print(train.class_indices.values())"
   ]
  },
  {
   "cell_type": "code",
   "execution_count": 22,
   "id": "82d7d99f",
   "metadata": {},
   "outputs": [
    {
     "name": "stdout",
     "output_type": "stream",
     "text": [
      "[0 0 0 0 0 0 0 0 0 0 0 0 0 0 0 0 0 0 0 0 0 0 1 1 1 1 1 1 1 1 1 1 1 1 1 1 1\n",
      " 1 1 1 1 1 1 1 1 2 2 2 2 2 2 2 2 2 2 2 2 2 2 2 2 2 2 2 2 2 2 2 2 2 3 3 3 3\n",
      " 3 3 3 3 3 3 3 3 3 3 3 3 3 3 3 3 3 3 3 3 3 3 4 4 4 4 4 4 4 4 4 4 4 4 4 4 4\n",
      " 4 4 4 4 4 4 4 4 5 5 5 5 5 5 5 5 5 5 5 5 5 5 5 5 5 5 5 5 5 5 5 5]\n",
      "143\n"
     ]
    }
   ],
   "source": [
    "print(train.labels)\n",
    "print(len(train.labels))"
   ]
  },
  {
   "cell_type": "code",
   "execution_count": 23,
   "id": "a7b55b52",
   "metadata": {},
   "outputs": [
    {
     "name": "stdout",
     "output_type": "stream",
     "text": [
      "[0 0 0 0 1 1 1 1 2 2 2 2 2 3 3 3 3 3 4 4 4 4 4 5 5 5 5 5]\n",
      "28\n"
     ]
    }
   ],
   "source": [
    "print(test.labels)\n",
    "print(len(test.labels))"
   ]
  },
  {
   "cell_type": "markdown",
   "id": "7eeb7539",
   "metadata": {},
   "source": [
    "#### Displaying augmented images"
   ]
  },
  {
   "cell_type": "code",
   "execution_count": 25,
   "id": "cd304ba8",
   "metadata": {},
   "outputs": [
    {
     "name": "stderr",
     "output_type": "stream",
     "text": [
      "Clipping input data to the valid range for imshow with RGB data ([0..1] for floats or [0..255] for integers).\n"
     ]
    },
    {
     "data": {
      "image/png": "[encoded data removed]",
      "text/plain": [
       "<Figure size 1440x1440 with 1 Axes>"
      ]
     },
     "metadata": {},
     "output_type": "display_data"
    },
    {
     "name": "stderr",
     "output_type": "stream",
     "text": [
      "Clipping input data to the valid range for imshow with RGB data ([0..1] for floats or [0..255] for integers).\n"
     ]
    },
    {
     "data": {
      "image/png": "[encoded data removed]",
      "text/plain": [
       "<Figure size 432x288 with 1 Axes>"
      ]
     },
     "metadata": {},
     "output_type": "display_data"
    },
    {
     "name": "stderr",
     "output_type": "stream",
     "text": [
      "Clipping input data to the valid range for imshow with RGB data ([0..1] for floats or [0..255] for integers).\n"
     ]
    },
    {
     "data": {
      "image/png": "[encoded data removed]",
      "text/plain": [
       "<Figure size 432x288 with 1 Axes>"
      ]
     },
     "metadata": {},
     "output_type": "display_data"
    },
    {
     "name": "stderr",
     "output_type": "stream",
     "text": [
      "Clipping input data to the valid range for imshow with RGB data ([0..1] for floats or [0..255] for integers).\n"
     ]
    },
    {
     "data": {
      "image/png": "[encoded data removed]",
      "text/plain": [
       "<Figure size 432x288 with 1 Axes>"
      ]
     },
     "metadata": {},
     "output_type": "display_data"
    },
    {
     "name": "stderr",
     "output_type": "stream",
     "text": [
      "Clipping input data to the valid range for imshow with RGB data ([0..1] for floats or [0..255] for integers).\n"
     ]
    },
    {
     "data": {
      "image/png": "[encoded data removed]",
      "text/plain": [
       "<Figure size 432x288 with 1 Axes>"
      ]
     },
     "metadata": {},
     "output_type": "display_data"
    },
    {
     "name": "stderr",
     "output_type": "stream",
     "text": [
      "Clipping input data to the valid range for imshow with RGB data ([0..1] for floats or [0..255] for integers).\n"
     ]
    },
    {
     "data": {
      "image/png": "[encoded data removed]",
      "text/plain": [
       "<Figure size 432x288 with 1 Axes>"
      ]
     },
     "metadata": {},
     "output_type": "display_data"
    },
    {
     "name": "stderr",
     "output_type": "stream",
     "text": [
      "Clipping input data to the valid range for imshow with RGB data ([0..1] for floats or [0..255] for integers).\n"
     ]
    },
    {
     "data": {
      "image/png": "[encoded data removed]",
      "text/plain": [
       "<Figure size 432x288 with 1 Axes>"
      ]
     },
     "metadata": {},
     "output_type": "display_data"
    },
    {
     "name": "stderr",
     "output_type": "stream",
     "text": [
      "Clipping input data to the valid range for imshow with RGB data ([0..1] for floats or [0..255] for integers).\n"
     ]
    },
    {
     "data": {
      "image/png": "[encoded data removed]",
      "text/plain": [
       "<Figure size 432x288 with 1 Axes>"
      ]
     },
     "metadata": {},
     "output_type": "display_data"
    },
    {
     "name": "stderr",
     "output_type": "stream",
     "text": [
      "Clipping input data to the valid range for imshow with RGB data ([0..1] for floats or [0..255] for integers).\n"
     ]
    },
    {
     "data": {
      "image/png": "[encoded data removed]",
      "text/plain": [
       "<Figure size 432x288 with 1 Axes>"
      ]
     },
     "metadata": {},
     "output_type": "display_data"
    },
    {
     "name": "stderr",
     "output_type": "stream",
     "text": [
      "Clipping input data to the valid range for imshow with RGB data ([0..1] for floats or [0..255] for integers).\n"
     ]
    },
    {
     "data": {
      "image/png": "[encoded data removed]",
      "text/plain": [
       "<Figure size 432x288 with 1 Axes>"
      ]
     },
     "metadata": {},
     "output_type": "display_data"
    },
    {
     "name": "stderr",
     "output_type": "stream",
     "text": [
      "Clipping input data to the valid range for imshow with RGB data ([0..1] for floats or [0..255] for integers).\n"
     ]
    },
    {
     "data": {
      "image/png": "[encoded data removed]",
      "text/plain": [
       "<Figure size 432x288 with 1 Axes>"
      ]
     },
     "metadata": {},
     "output_type": "display_data"
    },
    {
     "name": "stderr",
     "output_type": "stream",
     "text": [
      "Clipping input data to the valid range for imshow with RGB data ([0..1] for floats or [0..255] for integers).\n"
     ]
    },
    {
     "data": {
      "image/png": "[encoded data removed]",
      "text/plain": [
       "<Figure size 432x288 with 1 Axes>"
      ]
     },
     "metadata": {},
     "output_type": "display_data"
    },
    {
     "name": "stderr",
     "output_type": "stream",
     "text": [
      "Clipping input data to the valid range for imshow with RGB data ([0..1] for floats or [0..255] for integers).\n"
     ]
    },
    {
     "data": {
      "image/png": "[encoded data removed]",
      "text/plain": [
       "<Figure size 432x288 with 1 Axes>"
      ]
     },
     "metadata": {},
     "output_type": "display_data"
    },
    {
     "name": "stderr",
     "output_type": "stream",
     "text": [
      "Clipping input data to the valid range for imshow with RGB data ([0..1] for floats or [0..255] for integers).\n"
     ]
    },
    {
     "data": {
      "image/png": "[encoded data removed]",
      "text/plain": [
       "<Figure size 432x288 with 1 Axes>"
      ]
     },
     "metadata": {},
     "output_type": "display_data"
    },
    {
     "name": "stderr",
     "output_type": "stream",
     "text": [
      "Clipping input data to the valid range for imshow with RGB data ([0..1] for floats or [0..255] for integers).\n"
     ]
    },
    {
     "data": {
      "image/png": "[encoded data removed]",
      "text/plain": [
       "<Figure size 432x288 with 1 Axes>"
      ]
     },
     "metadata": {},
     "output_type": "display_data"
    },
    {
     "name": "stderr",
     "output_type": "stream",
     "text": [
      "Clipping input data to the valid range for imshow with RGB data ([0..1] for floats or [0..255] for integers).\n"
     ]
    },
    {
     "data": {
      "image/png": "[encoded data removed]",
      "text/plain": [
       "<Figure size 432x288 with 1 Axes>"
      ]
     },
     "metadata": {},
     "output_type": "display_data"
    }
   ],
   "source": [
    "plt.figure(figsize=(20,20))\n",
    "idx=0\n",
    "for i in range(16):\n",
    "    plt.subplot(4,4,i+1)\n",
    "    plt.xticks([])\n",
    "    plt.yticks([])\n",
    "    plt.imshow(train[0][0][idx])\n",
    "    idx += 1\n",
    "    plt.show()"
   ]
  },
  {
   "cell_type": "code",
   "execution_count": 39,
   "id": "20626a1f",
   "metadata": {},
   "outputs": [],
   "source": [
    "# it = datagen.flow_from_directory(samples, batch_size=1)\n",
    "# for i in range(9):\n",
    "#     plt.subplot(330 + 1 + i)\n",
    "#     batch = train.next()\n",
    "#     image = batch[0].astype('uint8')\n",
    "#     plt.imshow(image)\n",
    "# plt.show()"
   ]
  },
  {
   "cell_type": "markdown",
   "id": "d6f72947",
   "metadata": {},
   "source": [
    "### Build The VGG16 Model"
   ]
  },
  {
   "cell_type": "code",
   "execution_count": 27,
   "id": "077f14d9",
   "metadata": {},
   "outputs": [],
   "source": [
    "from tensorflow.keras.applications import VGG16\n",
    "from tensorflow.keras.models import Sequential\n",
    "from tensorflow.keras.layers import Dense, Conv2D, MaxPooling2D, AveragePooling2D, Flatten\n",
    "from tensorflow.keras.layers import GlobalAveragePooling2D, Dropout, BatchNormalization\n",
    "from tensorflow.keras.optimizers import Adam, RMSprop"
   ]
  },
  {
   "cell_type": "markdown",
   "id": "3d4ed300",
   "metadata": {},
   "source": [
    "#### Import Saved weights from Imagenet for VGG16 model"
   ]
  },
  {
   "cell_type": "code",
   "execution_count": 28,
   "id": "61432e94",
   "metadata": {},
   "outputs": [
    {
     "name": "stdout",
     "output_type": "stream",
     "text": [
      "Model: \"vgg16\"\n",
      "_________________________________________________________________\n",
      "Layer (type)                 Output Shape              Param #   \n",
      "=================================================================\n",
      "input_1 (InputLayer)         [(None, 300, 300, 3)]     0         \n",
      "_________________________________________________________________\n",
      "block1_conv1 (Conv2D)        (None, 300, 300, 64)      1792      \n",
      "_________________________________________________________________\n",
      "block1_conv2 (Conv2D)        (None, 300, 300, 64)      36928     \n",
      "_________________________________________________________________\n",
      "block1_pool (MaxPooling2D)   (None, 150, 150, 64)      0         \n",
      "_________________________________________________________________\n",
      "block2_conv1 (Conv2D)        (None, 150, 150, 128)     73856     \n",
      "_________________________________________________________________\n",
      "block2_conv2 (Conv2D)        (None, 150, 150, 128)     147584    \n",
      "_________________________________________________________________\n",
      "block2_pool (MaxPooling2D)   (None, 75, 75, 128)       0         \n",
      "_________________________________________________________________\n",
      "block3_conv1 (Conv2D)        (None, 75, 75, 256)       295168    \n",
      "_________________________________________________________________\n",
      "block3_conv2 (Conv2D)        (None, 75, 75, 256)       590080    \n",
      "_________________________________________________________________\n",
      "block3_conv3 (Conv2D)        (None, 75, 75, 256)       590080    \n",
      "_________________________________________________________________\n",
      "block3_pool (MaxPooling2D)   (None, 37, 37, 256)       0         \n",
      "_________________________________________________________________\n",
      "block4_conv1 (Conv2D)        (None, 37, 37, 512)       1180160   \n",
      "_________________________________________________________________\n",
      "block4_conv2 (Conv2D)        (None, 37, 37, 512)       2359808   \n",
      "_________________________________________________________________\n",
      "block4_conv3 (Conv2D)        (None, 37, 37, 512)       2359808   \n",
      "_________________________________________________________________\n",
      "block4_pool (MaxPooling2D)   (None, 18, 18, 512)       0         \n",
      "_________________________________________________________________\n",
      "block5_conv1 (Conv2D)        (None, 18, 18, 512)       2359808   \n",
      "_________________________________________________________________\n",
      "block5_conv2 (Conv2D)        (None, 18, 18, 512)       2359808   \n",
      "_________________________________________________________________\n",
      "block5_conv3 (Conv2D)        (None, 18, 18, 512)       2359808   \n",
      "_________________________________________________________________\n",
      "block5_pool (MaxPooling2D)   (None, 9, 9, 512)         0         \n",
      "=================================================================\n",
      "Total params: 14,714,688\n",
      "Trainable params: 14,714,688\n",
      "Non-trainable params: 0\n",
      "_________________________________________________________________\n"
     ]
    }
   ],
   "source": [
    "vgg16m = VGG16(weights='imagenet',include_top=False,input_shape=(300,300,3))\n",
    "vgg16m.summary()"
   ]
  },
  {
   "cell_type": "code",
   "execution_count": 30,
   "id": "84038cc4",
   "metadata": {},
   "outputs": [],
   "source": [
    "m1 = Sequential()\n",
    "vgg16m.trainable = False\n",
    "m1.add(vgg16m)\n",
    "m1.add(GlobalAveragePooling2D())\n",
    "\n",
    "m1.add(Dense(64,activation='relu'))\n",
    "m1.add(BatchNormalization())  # prevention of overfitting\n",
    "m1.add(Dropout(0.2))\n",
    "m1.add(Dense(6,activation='softmax'))   # output layer\n",
    "\n",
    "m1.compile(optimizer=Adam(beta_1=0.9),loss='categorical_crossentropy',metrics=['accuracy'])"
   ]
  },
  {
   "cell_type": "code",
   "execution_count": 31,
   "id": "29002e06",
   "metadata": {},
   "outputs": [
    {
     "name": "stdout",
     "output_type": "stream",
     "text": [
      "Epoch 1/5\n",
      "9/9 [==============================] - 203s 23s/step - loss: 1.7271 - accuracy: 0.3357 - val_loss: 2.6251 - val_accuracy: 0.4286\n",
      "Epoch 2/5\n",
      "9/9 [==============================] - 210s 24s/step - loss: 1.0037 - accuracy: 0.6084 - val_loss: 1.5717 - val_accuracy: 0.5714\n",
      "Epoch 3/5\n",
      "9/9 [==============================] - 209s 23s/step - loss: 0.7284 - accuracy: 0.6993 - val_loss: 1.0762 - val_accuracy: 0.6071\n",
      "Epoch 4/5\n",
      "9/9 [==============================] - 196s 22s/step - loss: 0.6448 - accuracy: 0.8042 - val_loss: 0.7536 - val_accuracy: 0.7143\n",
      "Epoch 5/5\n",
      "9/9 [==============================] - 207s 23s/step - loss: 0.6260 - accuracy: 0.7832 - val_loss: 0.6847 - val_accuracy: 0.7143\n"
     ]
    }
   ],
   "source": [
    "h1 = m1.fit(train,validation_data=test,epochs=5)"
   ]
  },
  {
   "cell_type": "code",
   "execution_count": 28,
   "id": "fc5cc4d4",
   "metadata": {},
   "outputs": [
    {
     "name": "stdout",
     "output_type": "stream",
     "text": [
      "Epoch 1/5\n",
      "9/9 [==============================] - 238s 27s/step - loss: 2.0983 - accuracy: 0.2657 - val_loss: 2.6223 - val_accuracy: 0.3966\n",
      "Epoch 2/5\n",
      "9/9 [==============================] - 239s 28s/step - loss: 1.2609 - accuracy: 0.4615 - val_loss: 1.7124 - val_accuracy: 0.5345\n",
      "Epoch 3/5\n",
      "9/9 [==============================] - 246s 28s/step - loss: 0.9254 - accuracy: 0.6503 - val_loss: 1.2029 - val_accuracy: 0.6897\n",
      "Epoch 4/5\n",
      "9/9 [==============================] - 254s 29s/step - loss: 0.8138 - accuracy: 0.7063 - val_loss: 0.8938 - val_accuracy: 0.7759\n",
      "Epoch 5/5\n",
      "9/9 [==============================] - 254s 29s/step - loss: 0.6382 - accuracy: 0.7972 - val_loss: 0.7615 - val_accuracy: 0.7586\n"
     ]
    }
   ],
   "source": [
    "# Train = 143, Test = 58\n",
    "h1 = m1.fit(train,validation_data=test,epochs=5)\n",
    "# epochs = no of iterations"
   ]
  },
  {
   "cell_type": "code",
   "execution_count": 29,
   "id": "2a3e8bad",
   "metadata": {},
   "outputs": [
    {
     "data": {
      "text/html": [
       "<div>\n",
       "<style scoped>\n",
       "    .dataframe tbody tr th:only-of-type {\n",
       "        vertical-align: middle;\n",
       "    }\n",
       "\n",
       "    .dataframe tbody tr th {\n",
       "        vertical-align: top;\n",
       "    }\n",
       "\n",
       "    .dataframe thead th {\n",
       "        text-align: right;\n",
       "    }\n",
       "</style>\n",
       "<table border=\"1\" class=\"dataframe\">\n",
       "  <thead>\n",
       "    <tr style=\"text-align: right;\">\n",
       "      <th></th>\n",
       "      <th>loss</th>\n",
       "      <th>accuracy</th>\n",
       "      <th>val_loss</th>\n",
       "      <th>val_accuracy</th>\n",
       "      <th>Epcohs</th>\n",
       "    </tr>\n",
       "  </thead>\n",
       "  <tbody>\n",
       "    <tr>\n",
       "      <th>0</th>\n",
       "      <td>2.098320</td>\n",
       "      <td>0.265734</td>\n",
       "      <td>2.622264</td>\n",
       "      <td>0.396552</td>\n",
       "      <td>0</td>\n",
       "    </tr>\n",
       "    <tr>\n",
       "      <th>1</th>\n",
       "      <td>1.260864</td>\n",
       "      <td>0.461538</td>\n",
       "      <td>1.712401</td>\n",
       "      <td>0.534483</td>\n",
       "      <td>1</td>\n",
       "    </tr>\n",
       "    <tr>\n",
       "      <th>2</th>\n",
       "      <td>0.925433</td>\n",
       "      <td>0.650350</td>\n",
       "      <td>1.202892</td>\n",
       "      <td>0.689655</td>\n",
       "      <td>2</td>\n",
       "    </tr>\n",
       "    <tr>\n",
       "      <th>3</th>\n",
       "      <td>0.813835</td>\n",
       "      <td>0.706294</td>\n",
       "      <td>0.893750</td>\n",
       "      <td>0.775862</td>\n",
       "      <td>3</td>\n",
       "    </tr>\n",
       "    <tr>\n",
       "      <th>4</th>\n",
       "      <td>0.638153</td>\n",
       "      <td>0.797203</td>\n",
       "      <td>0.761550</td>\n",
       "      <td>0.758621</td>\n",
       "      <td>4</td>\n",
       "    </tr>\n",
       "  </tbody>\n",
       "</table>\n",
       "</div>"
      ],
      "text/plain": [
       "       loss  accuracy  val_loss  val_accuracy  Epcohs\n",
       "0  2.098320  0.265734  2.622264      0.396552       0\n",
       "1  1.260864  0.461538  1.712401      0.534483       1\n",
       "2  0.925433  0.650350  1.202892      0.689655       2\n",
       "3  0.813835  0.706294  0.893750      0.775862       3\n",
       "4  0.638153  0.797203  0.761550      0.758621       4"
      ]
     },
     "execution_count": 29,
     "metadata": {},
     "output_type": "execute_result"
    }
   ],
   "source": [
    "r1 = pd.DataFrame(h1.history)\n",
    "r1['Epcohs'] = h1.epoch\n",
    "r1.tail()"
   ]
  },
  {
   "cell_type": "code",
   "execution_count": 30,
   "id": "44f7eae0",
   "metadata": {},
   "outputs": [
    {
     "data": {
      "image/png": "[encoded data removed]",
      "text/plain": [
       "<Figure size 432x288 with 1 Axes>"
      ]
     },
     "metadata": {
      "needs_background": "light"
     },
     "output_type": "display_data"
    }
   ],
   "source": [
    "plt.plot(r1['Epcohs'],r1['loss'],label='Train_loss')\n",
    "plt.plot(r1['Epcohs'],r1['val_loss'],label='Test_loss')\n",
    "plt.xlabel('Epcohs')\n",
    "plt.ylabel('Loss')\n",
    "plt.legend()\n",
    "plt.show()"
   ]
  },
  {
   "cell_type": "code",
   "execution_count": 31,
   "id": "f065ee6b",
   "metadata": {},
   "outputs": [
    {
     "data": {
      "image/png": "[encoded data removed]",
      "text/plain": [
       "<Figure size 432x288 with 1 Axes>"
      ]
     },
     "metadata": {
      "needs_background": "light"
     },
     "output_type": "display_data"
    }
   ],
   "source": [
    "plt.plot(r1['Epcohs'],r1['accuracy'],label='Train_accuracy')\n",
    "plt.plot(r1['Epcohs'],r1['val_accuracy'],label='Test_accuracy')\n",
    "plt.xlabel('Epcohs')\n",
    "plt.ylabel('accuracy')\n",
    "plt.legend()\n",
    "plt.show()"
   ]
  },
  {
   "cell_type": "code",
   "execution_count": 37,
   "id": "5953aa5c",
   "metadata": {},
   "outputs": [
    {
     "name": "stdout",
     "output_type": "stream",
     "text": [
      "[[9.98733103e-01 1.26165196e-05 1.47969258e-05 1.05084587e-06\n",
      "  1.08132542e-06 1.23741594e-03]\n",
      " [9.82845247e-01 1.01670057e-05 1.98425369e-05 4.81152761e-04\n",
      "  3.17403537e-05 1.66119561e-02]\n",
      " [9.99723852e-01 4.11331621e-06 4.89908523e-08 3.21663748e-07\n",
      "  2.33094011e-06 2.69414653e-04]\n",
      " [9.87050295e-01 3.10671167e-05 3.86893458e-04 3.54459576e-06\n",
      "  9.99173426e-06 1.25182113e-02]\n",
      " [9.99940157e-01 1.25758319e-08 4.05004073e-07 3.28246728e-07\n",
      "  4.48893370e-05 1.42767640e-05]\n",
      " [1.54173031e-01 3.30208600e-01 1.32993907e-01 2.12479085e-01\n",
      "  1.12587161e-01 5.75581603e-02]\n",
      " [9.98541594e-01 3.25333895e-05 6.17126773e-07 3.62412493e-07\n",
      "  2.80527934e-06 1.42222364e-03]\n",
      " [7.71428108e-01 1.25011876e-02 9.18943842e-04 9.92041081e-04\n",
      "  6.24558283e-03 2.07914159e-01]\n",
      " [5.14644897e-03 9.51658368e-01 2.20418628e-02 9.77414474e-03\n",
      "  6.38243277e-03 4.99666017e-03]\n",
      " [2.19591502e-02 8.64603937e-01 3.34373340e-02 9.13651020e-04\n",
      "  2.04225592e-02 5.86633794e-02]\n",
      " [1.29595190e-01 8.41170728e-01 6.39439654e-03 9.72965034e-04\n",
      "  8.23451579e-03 1.36322286e-02]\n",
      " [1.45241439e-01 7.10053444e-01 2.12443005e-02 2.38584145e-03\n",
      "  1.98786147e-02 1.01196431e-01]\n",
      " [2.23571546e-02 8.83750737e-01 7.39696473e-02 1.34603551e-03\n",
      "  3.43129411e-03 1.51450457e-02]\n",
      " [1.06743129e-03 9.38185990e-01 2.56876694e-03 3.76136899e-02\n",
      "  2.02537123e-02 3.10366886e-04]\n",
      " [2.59301323e-03 9.93825436e-01 9.39738646e-04 8.00803595e-04\n",
      "  9.67963890e-04 8.73163342e-04]\n",
      " [1.01409135e-02 9.73021388e-01 5.20302262e-03 9.21586470e-04\n",
      "  2.13419250e-03 8.57889093e-03]\n",
      " [9.40387994e-02 7.78132379e-01 4.08660471e-02 3.47519442e-02\n",
      "  1.68631226e-02 3.53477933e-02]\n",
      " [2.58312840e-03 3.76784301e-04 9.51427937e-01 2.59186570e-02\n",
      "  1.95972994e-02 9.62613558e-05]\n",
      " [1.52744481e-03 1.31970539e-03 9.70626235e-01 2.47050580e-02\n",
      "  1.49132602e-03 3.30214825e-04]\n",
      " [1.30354281e-04 2.47632852e-04 9.90898550e-01 7.06653064e-03\n",
      "  1.64691347e-03 1.00121961e-05]\n",
      " [4.18708310e-04 4.67231206e-04 5.17695725e-01 4.76644933e-01\n",
      "  4.73128445e-03 4.20551405e-05]\n",
      " [1.34322909e-04 4.90959908e-04 7.53254056e-01 2.40627736e-01\n",
      "  5.46089048e-03 3.20616600e-05]\n",
      " [8.98151993e-05 3.68030393e-04 9.98093784e-01 1.10693625e-03\n",
      "  3.37361067e-04 3.95690313e-06]\n",
      " [1.72094951e-04 3.47387977e-05 8.73653233e-01 1.25613049e-01\n",
      "  5.20696980e-04 6.20975925e-06]\n",
      " [2.04710523e-04 4.26748797e-04 9.52395678e-01 4.51007038e-02\n",
      "  1.86572562e-03 6.48183823e-06]\n",
      " [2.35319618e-04 1.60847878e-06 9.97690678e-01 1.92679162e-03\n",
      "  1.45294980e-04 2.83123029e-07]\n",
      " [1.22224796e-04 1.01479109e-05 9.94448543e-01 5.14453137e-03\n",
      "  2.72851641e-04 1.67676944e-06]\n",
      " [6.22795778e-06 9.96067611e-05 9.96913433e-01 2.22579157e-03\n",
      "  4.69609076e-04 2.85413378e-04]\n",
      " [1.55197671e-02 2.70945183e-03 9.35206190e-02 7.01028883e-01\n",
      "  1.86799839e-01 4.21402656e-04]\n",
      " [1.13456659e-02 6.39378428e-02 2.39391923e-01 4.21484321e-01\n",
      "  2.58468121e-01 5.37206698e-03]\n",
      " [1.23633733e-02 4.52279055e-04 8.66573632e-01 1.20037809e-01\n",
      "  1.32006069e-04 4.40889737e-04]\n",
      " [3.93493986e-03 2.14742422e-02 1.90865725e-01 6.47027910e-01\n",
      "  1.34177923e-01 2.51930323e-03]\n",
      " [2.03719921e-03 8.42102679e-07 9.90973413e-01 5.99349383e-03\n",
      "  9.93030495e-04 2.05161200e-06]\n",
      " [3.87568260e-03 3.69860716e-02 5.51716208e-01 4.03057098e-01\n",
      "  4.32458054e-03 4.02859259e-05]\n",
      " [2.50224490e-03 3.90872701e-05 7.39044607e-01 2.18559310e-01\n",
      "  3.97431627e-02 1.11550791e-04]\n",
      " [2.40973942e-02 8.78546908e-02 1.42313033e-01 5.75335622e-01\n",
      "  1.50450677e-01 1.99485887e-02]\n",
      " [9.64162499e-03 1.73557885e-02 5.59377670e-01 4.08247530e-01\n",
      "  5.28355967e-03 9.38277954e-05]\n",
      " [2.05320008e-02 4.48570587e-02 5.39201319e-01 2.18101025e-01\n",
      "  1.69745028e-01 7.56363245e-03]\n",
      " [6.71766758e-01 1.00903380e-04 5.49323931e-02 2.78149208e-04\n",
      "  2.52748519e-01 2.01733075e-02]\n",
      " [5.27438289e-03 5.51249206e-01 3.30036700e-01 8.56318101e-02\n",
      "  8.87938868e-03 1.89284831e-02]\n",
      " [8.88060868e-01 2.45329371e-04 2.68448405e-02 1.12146314e-03\n",
      "  5.69744129e-03 7.80300125e-02]\n",
      " [2.76178680e-02 9.64915752e-03 1.48308411e-01 5.14475107e-02\n",
      "  7.58941531e-01 4.03555809e-03]\n",
      " [8.49053636e-03 6.56980628e-05 1.71092302e-02 9.58697579e-04\n",
      "  9.71712232e-01 1.66360498e-03]\n",
      " [2.71932706e-02 1.75618213e-02 9.88634527e-02 3.52499001e-02\n",
      "  8.04140985e-01 1.69905797e-02]\n",
      " [6.98807091e-02 8.55764574e-06 1.23304524e-01 2.05015168e-02\n",
      "  7.85880804e-01 4.23912279e-04]\n",
      " [4.31905454e-03 9.46100394e-04 5.79848625e-02 5.30229835e-03\n",
      "  9.28139687e-01 3.30797629e-03]\n",
      " [2.34536268e-03 1.16597970e-04 5.50332479e-02 4.96222824e-03\n",
      "  9.37053740e-01 4.88779857e-04]\n",
      " [1.15130702e-02 4.00645629e-04 5.41088469e-02 8.24236870e-03\n",
      "  9.23617661e-01 2.11745175e-03]\n",
      " [1.14084244e-01 1.11013680e-04 5.39274424e-06 2.69955450e-07\n",
      "  1.33158619e-06 8.85797739e-01]\n",
      " [9.99720991e-01 1.59455752e-07 2.03935251e-08 1.40160438e-07\n",
      "  1.80706259e-08 2.78562045e-04]\n",
      " [7.72029936e-01 6.20961009e-06 5.21686045e-04 6.21122172e-06\n",
      "  4.40305506e-04 2.26995647e-01]\n",
      " [4.55464154e-01 8.68161660e-05 3.19197352e-05 1.03838620e-05\n",
      "  7.81985091e-06 5.44398904e-01]\n",
      " [5.35554886e-01 1.38855277e-04 1.01353321e-02 1.22716220e-03\n",
      "  7.27938581e-03 4.45664346e-01]\n",
      " [2.27817595e-01 6.79405928e-02 6.60563167e-03 5.06941788e-03\n",
      "  1.17209740e-02 6.80845737e-01]\n",
      " [4.99497682e-01 3.21801563e-05 1.55481580e-03 4.28740714e-06\n",
      "  4.72025422e-05 4.98863816e-01]\n",
      " [1.41351014e-01 4.24201899e-05 9.71875852e-05 1.94752010e-05\n",
      "  8.16238535e-05 8.58408213e-01]\n",
      " [9.12555552e-05 2.83220466e-02 4.05873172e-03 3.89130037e-06\n",
      "  8.90094452e-05 9.67435062e-01]\n",
      " [4.10241812e-01 3.04246005e-02 9.66664695e-04 4.77791124e-04\n",
      "  2.24519754e-04 5.57664573e-01]]\n"
     ]
    }
   ],
   "source": [
    "ypred = m1.predict(test)\n",
    "print(ypred)"
   ]
  },
  {
   "cell_type": "code",
   "execution_count": 38,
   "id": "a597451a",
   "metadata": {},
   "outputs": [
    {
     "name": "stdout",
     "output_type": "stream",
     "text": [
      "58\n"
     ]
    }
   ],
   "source": [
    "print(len(ypred))"
   ]
  },
  {
   "cell_type": "code",
   "execution_count": 39,
   "id": "b7a757a3",
   "metadata": {},
   "outputs": [
    {
     "name": "stdout",
     "output_type": "stream",
     "text": [
      "[0, 0, 0, 0, 0, 1, 0, 0, 1, 1, 1, 1, 1, 1, 1, 1, 1, 2, 2, 2, 2, 2, 2, 2, 2, 2, 2, 2, 3, 3, 2, 3, 2, 2, 2, 3, 2, 2, 0, 1, 0, 4, 4, 4, 4, 4, 4, 4, 5, 0, 0, 5, 0, 5, 0, 5, 5, 5]\n"
     ]
    }
   ],
   "source": [
    "ypred = [np.argmax(i) for i in ypred]\n",
    "print(ypred)"
   ]
  },
  {
   "cell_type": "code",
   "execution_count": 40,
   "id": "9f972f34",
   "metadata": {},
   "outputs": [
    {
     "name": "stdout",
     "output_type": "stream",
     "text": [
      "[0 0 0 0 0 0 0 0 1 1 1 1 1 1 1 1 1 2 2 2 2 2 2 2 2 2 2 2 3 3 3 3 3 3 3 3 3\n",
      " 3 4 4 4 4 4 4 4 4 4 4 5 5 5 5 5 5 5 5 5 5]\n"
     ]
    }
   ],
   "source": [
    "print(test.labels)"
   ]
  },
  {
   "cell_type": "code",
   "execution_count": 41,
   "id": "733ee22c",
   "metadata": {},
   "outputs": [],
   "source": [
    "from sklearn.metrics import confusion_matrix,classification_report"
   ]
  },
  {
   "cell_type": "code",
   "execution_count": 42,
   "id": "f51c3d4a",
   "metadata": {},
   "outputs": [
    {
     "name": "stdout",
     "output_type": "stream",
     "text": [
      "[[ 7  1  0  0  0  0]\n",
      " [ 0  9  0  0  0  0]\n",
      " [ 0  0 11  0  0  0]\n",
      " [ 0  0  6  4  0  0]\n",
      " [ 2  1  0  0  7  0]\n",
      " [ 4  0  0  0  0  6]]\n",
      "              precision    recall  f1-score   support\n",
      "\n",
      "           0       0.54      0.88      0.67         8\n",
      "           1       0.82      1.00      0.90         9\n",
      "           2       0.65      1.00      0.79        11\n",
      "           3       1.00      0.40      0.57        10\n",
      "           4       1.00      0.70      0.82        10\n",
      "           5       1.00      0.60      0.75        10\n",
      "\n",
      "    accuracy                           0.76        58\n",
      "   macro avg       0.83      0.76      0.75        58\n",
      "weighted avg       0.84      0.76      0.75        58\n",
      "\n"
     ]
    }
   ],
   "source": [
    "cm = confusion_matrix(test.labels,ypred)\n",
    "print(cm)\n",
    "print(classification_report(test.labels,ypred))"
   ]
  },
  {
   "cell_type": "markdown",
   "id": "b29dc901",
   "metadata": {},
   "source": [
    "### MobileNet\n",
    "\n",
    "<img src=\"mobilenet_arch.png\">"
   ]
  },
  {
   "cell_type": "markdown",
   "id": "a26bddfd",
   "metadata": {},
   "source": [
    "### Major Project\n",
    "Implement the Intel Image project using MobileNet Transfer learning technique\n",
    "\n",
    "Link Used -> https://www.tensorflow.org/api_docs/python/tf/keras/applications/\n",
    "\n",
    "Dataset -> https://www.kaggle.com/datasets/puneet6060/intel-image-classification"
   ]
  },
  {
   "cell_type": "code",
   "execution_count": 43,
   "id": "bf89d63f",
   "metadata": {},
   "outputs": [],
   "source": [
    "from tensorflow.keras.applications import MobileNet\n",
    "from tensorflow.keras.applications.mobilenet import preprocess_input"
   ]
  },
  {
   "cell_type": "markdown",
   "id": "db90364b",
   "metadata": {},
   "source": [
    "### MobileNet Architecture"
   ]
  },
  {
   "cell_type": "code",
   "execution_count": 44,
   "id": "dff2179b",
   "metadata": {},
   "outputs": [
    {
     "name": "stdout",
     "output_type": "stream",
     "text": [
      "WARNING:tensorflow:`input_shape` is undefined or non-square, or `rows` is not in [128, 160, 192, 224]. Weights for input shape (224, 224) will be loaded as the default.\n",
      "Model: \"mobilenet_1.00_224\"\n",
      "_________________________________________________________________\n",
      "Layer (type)                 Output Shape              Param #   \n",
      "=================================================================\n",
      "input_2 (InputLayer)         [(None, 300, 300, 3)]     0         \n",
      "_________________________________________________________________\n",
      "conv1 (Conv2D)               (None, 150, 150, 32)      864       \n",
      "_________________________________________________________________\n",
      "conv1_bn (BatchNormalization (None, 150, 150, 32)      128       \n",
      "_________________________________________________________________\n",
      "conv1_relu (ReLU)            (None, 150, 150, 32)      0         \n",
      "_________________________________________________________________\n",
      "conv_dw_1 (DepthwiseConv2D)  (None, 150, 150, 32)      288       \n",
      "_________________________________________________________________\n",
      "conv_dw_1_bn (BatchNormaliza (None, 150, 150, 32)      128       \n",
      "_________________________________________________________________\n",
      "conv_dw_1_relu (ReLU)        (None, 150, 150, 32)      0         \n",
      "_________________________________________________________________\n",
      "conv_pw_1 (Conv2D)           (None, 150, 150, 64)      2048      \n",
      "_________________________________________________________________\n",
      "conv_pw_1_bn (BatchNormaliza (None, 150, 150, 64)      256       \n",
      "_________________________________________________________________\n",
      "conv_pw_1_relu (ReLU)        (None, 150, 150, 64)      0         \n",
      "_________________________________________________________________\n",
      "conv_pad_2 (ZeroPadding2D)   (None, 151, 151, 64)      0         \n",
      "_________________________________________________________________\n",
      "conv_dw_2 (DepthwiseConv2D)  (None, 75, 75, 64)        576       \n",
      "_________________________________________________________________\n",
      "conv_dw_2_bn (BatchNormaliza (None, 75, 75, 64)        256       \n",
      "_________________________________________________________________\n",
      "conv_dw_2_relu (ReLU)        (None, 75, 75, 64)        0         \n",
      "_________________________________________________________________\n",
      "conv_pw_2 (Conv2D)           (None, 75, 75, 128)       8192      \n",
      "_________________________________________________________________\n",
      "conv_pw_2_bn (BatchNormaliza (None, 75, 75, 128)       512       \n",
      "_________________________________________________________________\n",
      "conv_pw_2_relu (ReLU)        (None, 75, 75, 128)       0         \n",
      "_________________________________________________________________\n",
      "conv_dw_3 (DepthwiseConv2D)  (None, 75, 75, 128)       1152      \n",
      "_________________________________________________________________\n",
      "conv_dw_3_bn (BatchNormaliza (None, 75, 75, 128)       512       \n",
      "_________________________________________________________________\n",
      "conv_dw_3_relu (ReLU)        (None, 75, 75, 128)       0         \n",
      "_________________________________________________________________\n",
      "conv_pw_3 (Conv2D)           (None, 75, 75, 128)       16384     \n",
      "_________________________________________________________________\n",
      "conv_pw_3_bn (BatchNormaliza (None, 75, 75, 128)       512       \n",
      "_________________________________________________________________\n",
      "conv_pw_3_relu (ReLU)        (None, 75, 75, 128)       0         \n",
      "_________________________________________________________________\n",
      "conv_pad_4 (ZeroPadding2D)   (None, 76, 76, 128)       0         \n",
      "_________________________________________________________________\n",
      "conv_dw_4 (DepthwiseConv2D)  (None, 37, 37, 128)       1152      \n",
      "_________________________________________________________________\n",
      "conv_dw_4_bn (BatchNormaliza (None, 37, 37, 128)       512       \n",
      "_________________________________________________________________\n",
      "conv_dw_4_relu (ReLU)        (None, 37, 37, 128)       0         \n",
      "_________________________________________________________________\n",
      "conv_pw_4 (Conv2D)           (None, 37, 37, 256)       32768     \n",
      "_________________________________________________________________\n",
      "conv_pw_4_bn (BatchNormaliza (None, 37, 37, 256)       1024      \n",
      "_________________________________________________________________\n",
      "conv_pw_4_relu (ReLU)        (None, 37, 37, 256)       0         \n",
      "_________________________________________________________________\n",
      "conv_dw_5 (DepthwiseConv2D)  (None, 37, 37, 256)       2304      \n",
      "_________________________________________________________________\n",
      "conv_dw_5_bn (BatchNormaliza (None, 37, 37, 256)       1024      \n",
      "_________________________________________________________________\n",
      "conv_dw_5_relu (ReLU)        (None, 37, 37, 256)       0         \n",
      "_________________________________________________________________\n",
      "conv_pw_5 (Conv2D)           (None, 37, 37, 256)       65536     \n",
      "_________________________________________________________________\n",
      "conv_pw_5_bn (BatchNormaliza (None, 37, 37, 256)       1024      \n",
      "_________________________________________________________________\n",
      "conv_pw_5_relu (ReLU)        (None, 37, 37, 256)       0         \n",
      "_________________________________________________________________\n",
      "conv_pad_6 (ZeroPadding2D)   (None, 38, 38, 256)       0         \n",
      "_________________________________________________________________\n",
      "conv_dw_6 (DepthwiseConv2D)  (None, 18, 18, 256)       2304      \n",
      "_________________________________________________________________\n",
      "conv_dw_6_bn (BatchNormaliza (None, 18, 18, 256)       1024      \n",
      "_________________________________________________________________\n",
      "conv_dw_6_relu (ReLU)        (None, 18, 18, 256)       0         \n",
      "_________________________________________________________________\n",
      "conv_pw_6 (Conv2D)           (None, 18, 18, 512)       131072    \n",
      "_________________________________________________________________\n",
      "conv_pw_6_bn (BatchNormaliza (None, 18, 18, 512)       2048      \n",
      "_________________________________________________________________\n",
      "conv_pw_6_relu (ReLU)        (None, 18, 18, 512)       0         \n",
      "_________________________________________________________________\n",
      "conv_dw_7 (DepthwiseConv2D)  (None, 18, 18, 512)       4608      \n",
      "_________________________________________________________________\n",
      "conv_dw_7_bn (BatchNormaliza (None, 18, 18, 512)       2048      \n",
      "_________________________________________________________________\n",
      "conv_dw_7_relu (ReLU)        (None, 18, 18, 512)       0         \n",
      "_________________________________________________________________\n",
      "conv_pw_7 (Conv2D)           (None, 18, 18, 512)       262144    \n",
      "_________________________________________________________________\n",
      "conv_pw_7_bn (BatchNormaliza (None, 18, 18, 512)       2048      \n",
      "_________________________________________________________________\n",
      "conv_pw_7_relu (ReLU)        (None, 18, 18, 512)       0         \n",
      "_________________________________________________________________\n",
      "conv_dw_8 (DepthwiseConv2D)  (None, 18, 18, 512)       4608      \n",
      "_________________________________________________________________\n",
      "conv_dw_8_bn (BatchNormaliza (None, 18, 18, 512)       2048      \n",
      "_________________________________________________________________\n",
      "conv_dw_8_relu (ReLU)        (None, 18, 18, 512)       0         \n",
      "_________________________________________________________________\n",
      "conv_pw_8 (Conv2D)           (None, 18, 18, 512)       262144    \n",
      "_________________________________________________________________\n",
      "conv_pw_8_bn (BatchNormaliza (None, 18, 18, 512)       2048      \n",
      "_________________________________________________________________\n",
      "conv_pw_8_relu (ReLU)        (None, 18, 18, 512)       0         \n",
      "_________________________________________________________________\n",
      "conv_dw_9 (DepthwiseConv2D)  (None, 18, 18, 512)       4608      \n",
      "_________________________________________________________________\n",
      "conv_dw_9_bn (BatchNormaliza (None, 18, 18, 512)       2048      \n",
      "_________________________________________________________________\n",
      "conv_dw_9_relu (ReLU)        (None, 18, 18, 512)       0         \n",
      "_________________________________________________________________\n",
      "conv_pw_9 (Conv2D)           (None, 18, 18, 512)       262144    \n",
      "_________________________________________________________________\n",
      "conv_pw_9_bn (BatchNormaliza (None, 18, 18, 512)       2048      \n",
      "_________________________________________________________________\n",
      "conv_pw_9_relu (ReLU)        (None, 18, 18, 512)       0         \n",
      "_________________________________________________________________\n",
      "conv_dw_10 (DepthwiseConv2D) (None, 18, 18, 512)       4608      \n",
      "_________________________________________________________________\n",
      "conv_dw_10_bn (BatchNormaliz (None, 18, 18, 512)       2048      \n",
      "_________________________________________________________________\n",
      "conv_dw_10_relu (ReLU)       (None, 18, 18, 512)       0         \n",
      "_________________________________________________________________\n",
      "conv_pw_10 (Conv2D)          (None, 18, 18, 512)       262144    \n",
      "_________________________________________________________________\n",
      "conv_pw_10_bn (BatchNormaliz (None, 18, 18, 512)       2048      \n",
      "_________________________________________________________________\n",
      "conv_pw_10_relu (ReLU)       (None, 18, 18, 512)       0         \n",
      "_________________________________________________________________\n",
      "conv_dw_11 (DepthwiseConv2D) (None, 18, 18, 512)       4608      \n",
      "_________________________________________________________________\n",
      "conv_dw_11_bn (BatchNormaliz (None, 18, 18, 512)       2048      \n",
      "_________________________________________________________________\n",
      "conv_dw_11_relu (ReLU)       (None, 18, 18, 512)       0         \n",
      "_________________________________________________________________\n",
      "conv_pw_11 (Conv2D)          (None, 18, 18, 512)       262144    \n",
      "_________________________________________________________________\n",
      "conv_pw_11_bn (BatchNormaliz (None, 18, 18, 512)       2048      \n",
      "_________________________________________________________________\n",
      "conv_pw_11_relu (ReLU)       (None, 18, 18, 512)       0         \n",
      "_________________________________________________________________\n",
      "conv_pad_12 (ZeroPadding2D)  (None, 19, 19, 512)       0         \n",
      "_________________________________________________________________\n",
      "conv_dw_12 (DepthwiseConv2D) (None, 9, 9, 512)         4608      \n",
      "_________________________________________________________________\n",
      "conv_dw_12_bn (BatchNormaliz (None, 9, 9, 512)         2048      \n",
      "_________________________________________________________________\n",
      "conv_dw_12_relu (ReLU)       (None, 9, 9, 512)         0         \n",
      "_________________________________________________________________\n",
      "conv_pw_12 (Conv2D)          (None, 9, 9, 1024)        524288    \n",
      "_________________________________________________________________\n",
      "conv_pw_12_bn (BatchNormaliz (None, 9, 9, 1024)        4096      \n",
      "_________________________________________________________________\n",
      "conv_pw_12_relu (ReLU)       (None, 9, 9, 1024)        0         \n",
      "_________________________________________________________________\n",
      "conv_dw_13 (DepthwiseConv2D) (None, 9, 9, 1024)        9216      \n",
      "_________________________________________________________________\n",
      "conv_dw_13_bn (BatchNormaliz (None, 9, 9, 1024)        4096      \n",
      "_________________________________________________________________\n",
      "conv_dw_13_relu (ReLU)       (None, 9, 9, 1024)        0         \n",
      "_________________________________________________________________\n",
      "conv_pw_13 (Conv2D)          (None, 9, 9, 1024)        1048576   \n",
      "_________________________________________________________________\n",
      "conv_pw_13_bn (BatchNormaliz (None, 9, 9, 1024)        4096      \n",
      "_________________________________________________________________\n",
      "conv_pw_13_relu (ReLU)       (None, 9, 9, 1024)        0         \n",
      "=================================================================\n",
      "Total params: 3,228,864\n",
      "Trainable params: 3,206,976\n",
      "Non-trainable params: 21,888\n",
      "_________________________________________________________________\n"
     ]
    }
   ],
   "source": [
    "mbnet = MobileNet(weights='imagenet',include_top=False,input_shape=(300,300,3))\n",
    "mbnet.summary()"
   ]
  },
  {
   "cell_type": "code",
   "execution_count": null,
   "id": "59a85656",
   "metadata": {},
   "outputs": [],
   "source": []
  },
  {
   "cell_type": "code",
   "execution_count": 71,
   "id": "326dd863",
   "metadata": {},
   "outputs": [],
   "source": [
    "# from google.colab import drive\n",
    "# drive.mount('/content/drive')\n",
    "\n",
    "# df  = pd.read_csv('/content/drive/My Drive/Colab_files/house_price2.csv')\n",
    "# df.head()"
   ]
  },
  {
   "cell_type": "code",
   "execution_count": null,
   "id": "e90fc6dc",
   "metadata": {},
   "outputs": [],
   "source": []
  }
 ],
 "metadata": {
  "kernelspec": {
   "display_name": "Python 3",
   "language": "python",
   "name": "python3"
  },
  "language_info": {
   "codemirror_mode": {
    "name": "ipython",
    "version": 3
   },
   "file_extension": ".py",
   "mimetype": "text/x-python",
   "name": "python",
   "nbconvert_exporter": "python",
   "pygments_lexer": "ipython3",
   "version": "3.8.8"
  }
 },
 "nbformat": 4,
 "nbformat_minor": 5
}
